{
  "cells": [
    {
      "cell_type": "markdown",
      "id": "8695fe7e",
      "metadata": {
        "id": "8695fe7e"
      },
      "source": [
        "# Funciones Necesarias"
      ]
    },
    {
      "cell_type": "code",
      "execution_count": 1,
      "id": "c9e08340",
      "metadata": {
        "id": "c9e08340"
      },
      "outputs": [],
      "source": [
        "import matplotlib.pyplot as plt\n",
        "import pandas as pd\n",
        "import numpy as np\n",
        "import requests\n",
        "from datetime import datetime, timedelta\n",
        "import threading"
      ]
    },
    {
      "cell_type": "code",
      "execution_count": 2,
      "id": "5c076355",
      "metadata": {
        "id": "5c076355"
      },
      "outputs": [],
      "source": [
        "def historico(symbol, interval='1d', startTime=None, endTime=None, limit=1000):\n",
        "\n",
        "    url = 'https://api.binance.com/api/v3/klines'\n",
        "\n",
        "    params = {'symbol':symbol, 'interval':interval,\n",
        "              'startTime':startTime, 'endTime':endTime, 'limit':limit}\n",
        "\n",
        "    r = requests.get(url, params=params)\n",
        "    js = r.json()\n",
        "\n",
        "    # Armo el dataframe\n",
        "    cols = ['openTime','Open','High','Low','Close','Volume','cTime',\n",
        "            'qVolume','trades','takerBase','takerQuote','Ignore']\n",
        "\n",
        "    df = pd.DataFrame(js, columns=cols)\n",
        "\n",
        "    #Convierto los valores strings a numeros\n",
        "    df = df.apply(pd.to_numeric)\n",
        "\n",
        "    # Le mando indice de timestamp\n",
        "    df.index = pd.to_datetime(df.openTime, unit='ms')\n",
        "\n",
        "    # Elimino columnas que no quiero\n",
        "    df =df.drop(['openTime','cTime','takerBase','takerQuote','Ignore'],axis=1)\n",
        "\n",
        "    return df\n",
        "\n",
        "#historico('BTCUSDT', interval='2h')"
      ]
    },
    {
      "cell_type": "code",
      "execution_count": 3,
      "id": "32c49489",
      "metadata": {
        "id": "32c49489"
      },
      "outputs": [],
      "source": [
        "def historico_binance(par, inicio, timeframe_minutos=1, n_threads=30):\n",
        "\n",
        "    ts = int(datetime.timestamp(inicio))*1000\n",
        "    fechas = []\n",
        "    while ts < int(datetime.timestamp(datetime.now()))*1000:\n",
        "        fechas.append((ts, ts+60*1000*1000*timeframe_minutos))\n",
        "        ts += 60*1000*1000*timeframe_minutos\n",
        "\n",
        "    intervalos = {1:'1m',5:'5m',15:'15m',30:'30m',60:'1h',1440:'1d'}\n",
        "    interval = intervalos.get(timeframe_minutos)\n",
        "    subs = np.array_split(fechas, n_threads)\n",
        "    dfs = []\n",
        "    def worker(fechas):\n",
        "        for fecha in fechas:\n",
        "            try:\n",
        "                df = historico(par, interval=interval, startTime=fecha[0])\n",
        "            except:\n",
        "                time.sleep(0.01)\n",
        "                df = historico(par, interval=interval, startTime=fecha[0])\n",
        "            dfs.append(df)\n",
        "        return df\n",
        "\n",
        "\n",
        "    threads = []\n",
        "    for i in range(n_threads):\n",
        "        t = threading.Thread(target=worker, args=(subs[i],))\n",
        "        threads.append(t)\n",
        "        t.start()\n",
        "\n",
        "    for t in threads:\n",
        "        t.join()\n",
        "\n",
        "    data = pd.concat(dfs).sort_index()\n",
        "    data.index = pd.to_datetime(data.index)\n",
        "\n",
        "    return data.dropna()"
      ]
    },
    {
      "cell_type": "code",
      "execution_count": 4,
      "id": "71367455",
      "metadata": {
        "colab": {
          "base_uri": "https://localhost:8080/",
          "height": 81
        },
        "id": "71367455",
        "outputId": "b1050e6d-5859-41ce-b035-74e454db5f18"
      },
      "outputs": [
        {
          "data": {
            "text/html": [
              "<div>\n",
              "<style scoped>\n",
              "    .dataframe tbody tr th:only-of-type {\n",
              "        vertical-align: middle;\n",
              "    }\n",
              "\n",
              "    .dataframe tbody tr th {\n",
              "        vertical-align: top;\n",
              "    }\n",
              "\n",
              "    .dataframe thead th {\n",
              "        text-align: right;\n",
              "    }\n",
              "</style>\n",
              "<table border=\"1\" class=\"dataframe\">\n",
              "  <thead>\n",
              "    <tr style=\"text-align: right;\">\n",
              "      <th></th>\n",
              "      <th>Open</th>\n",
              "      <th>High</th>\n",
              "      <th>Low</th>\n",
              "      <th>Close</th>\n",
              "      <th>Volume</th>\n",
              "      <th>qVolume</th>\n",
              "      <th>trades</th>\n",
              "    </tr>\n",
              "    <tr>\n",
              "      <th>openTime</th>\n",
              "      <th></th>\n",
              "      <th></th>\n",
              "      <th></th>\n",
              "      <th></th>\n",
              "      <th></th>\n",
              "      <th></th>\n",
              "      <th></th>\n",
              "    </tr>\n",
              "  </thead>\n",
              "  <tbody>\n",
              "    <tr>\n",
              "      <th>2017-08-17 04:00:00</th>\n",
              "      <td>4261.48</td>\n",
              "      <td>4280.56</td>\n",
              "      <td>4261.48</td>\n",
              "      <td>4261.48</td>\n",
              "      <td>2.189061</td>\n",
              "      <td>9.333621e+03</td>\n",
              "      <td>9.0</td>\n",
              "    </tr>\n",
              "    <tr>\n",
              "      <th>2017-08-17 04:15:00</th>\n",
              "      <td>4261.48</td>\n",
              "      <td>4270.41</td>\n",
              "      <td>4261.32</td>\n",
              "      <td>4261.45</td>\n",
              "      <td>9.119865</td>\n",
              "      <td>3.889113e+04</td>\n",
              "      <td>40.0</td>\n",
              "    </tr>\n",
              "    <tr>\n",
              "      <th>2017-08-17 04:30:00</th>\n",
              "      <td>4280.00</td>\n",
              "      <td>4310.07</td>\n",
              "      <td>4267.99</td>\n",
              "      <td>4310.07</td>\n",
              "      <td>21.923552</td>\n",
              "      <td>9.408092e+04</td>\n",
              "      <td>58.0</td>\n",
              "    </tr>\n",
              "    <tr>\n",
              "      <th>2017-08-17 04:45:00</th>\n",
              "      <td>4310.07</td>\n",
              "      <td>4313.62</td>\n",
              "      <td>4291.37</td>\n",
              "      <td>4308.83</td>\n",
              "      <td>13.948531</td>\n",
              "      <td>6.006047e+04</td>\n",
              "      <td>64.0</td>\n",
              "    </tr>\n",
              "    <tr>\n",
              "      <th>2017-08-17 05:00:00</th>\n",
              "      <td>4308.83</td>\n",
              "      <td>4328.69</td>\n",
              "      <td>4304.31</td>\n",
              "      <td>4304.31</td>\n",
              "      <td>5.101153</td>\n",
              "      <td>2.200653e+04</td>\n",
              "      <td>44.0</td>\n",
              "    </tr>\n",
              "    <tr>\n",
              "      <th>...</th>\n",
              "      <td>...</td>\n",
              "      <td>...</td>\n",
              "      <td>...</td>\n",
              "      <td>...</td>\n",
              "      <td>...</td>\n",
              "      <td>...</td>\n",
              "      <td>...</td>\n",
              "    </tr>\n",
              "    <tr>\n",
              "      <th>2023-09-18 04:00:00</th>\n",
              "      <td>26658.66</td>\n",
              "      <td>26680.00</td>\n",
              "      <td>26618.07</td>\n",
              "      <td>26636.95</td>\n",
              "      <td>217.301360</td>\n",
              "      <td>5.790778e+06</td>\n",
              "      <td>6223.0</td>\n",
              "    </tr>\n",
              "    <tr>\n",
              "      <th>2023-09-18 04:15:00</th>\n",
              "      <td>26636.94</td>\n",
              "      <td>26636.95</td>\n",
              "      <td>26599.99</td>\n",
              "      <td>26599.99</td>\n",
              "      <td>180.849580</td>\n",
              "      <td>4.814296e+06</td>\n",
              "      <td>5387.0</td>\n",
              "    </tr>\n",
              "    <tr>\n",
              "      <th>2023-09-18 04:30:00</th>\n",
              "      <td>26600.00</td>\n",
              "      <td>26602.19</td>\n",
              "      <td>26567.09</td>\n",
              "      <td>26581.93</td>\n",
              "      <td>195.301210</td>\n",
              "      <td>5.191868e+06</td>\n",
              "      <td>6325.0</td>\n",
              "    </tr>\n",
              "    <tr>\n",
              "      <th>2023-09-18 04:45:00</th>\n",
              "      <td>26581.93</td>\n",
              "      <td>26627.60</td>\n",
              "      <td>26574.32</td>\n",
              "      <td>26621.75</td>\n",
              "      <td>135.474230</td>\n",
              "      <td>3.604247e+06</td>\n",
              "      <td>5307.0</td>\n",
              "    </tr>\n",
              "    <tr>\n",
              "      <th>2023-09-18 05:00:00</th>\n",
              "      <td>26621.76</td>\n",
              "      <td>26628.92</td>\n",
              "      <td>26621.75</td>\n",
              "      <td>26626.44</td>\n",
              "      <td>22.791630</td>\n",
              "      <td>6.068950e+05</td>\n",
              "      <td>1158.0</td>\n",
              "    </tr>\n",
              "  </tbody>\n",
              "</table>\n",
              "<p>213413 rows × 7 columns</p>\n",
              "</div>"
            ],
            "text/plain": [
              "                         Open      High       Low     Close      Volume  \\\n",
              "openTime                                                                  \n",
              "2017-08-17 04:00:00   4261.48   4280.56   4261.48   4261.48    2.189061   \n",
              "2017-08-17 04:15:00   4261.48   4270.41   4261.32   4261.45    9.119865   \n",
              "2017-08-17 04:30:00   4280.00   4310.07   4267.99   4310.07   21.923552   \n",
              "2017-08-17 04:45:00   4310.07   4313.62   4291.37   4308.83   13.948531   \n",
              "2017-08-17 05:00:00   4308.83   4328.69   4304.31   4304.31    5.101153   \n",
              "...                       ...       ...       ...       ...         ...   \n",
              "2023-09-18 04:00:00  26658.66  26680.00  26618.07  26636.95  217.301360   \n",
              "2023-09-18 04:15:00  26636.94  26636.95  26599.99  26599.99  180.849580   \n",
              "2023-09-18 04:30:00  26600.00  26602.19  26567.09  26581.93  195.301210   \n",
              "2023-09-18 04:45:00  26581.93  26627.60  26574.32  26621.75  135.474230   \n",
              "2023-09-18 05:00:00  26621.76  26628.92  26621.75  26626.44   22.791630   \n",
              "\n",
              "                          qVolume  trades  \n",
              "openTime                                   \n",
              "2017-08-17 04:00:00  9.333621e+03     9.0  \n",
              "2017-08-17 04:15:00  3.889113e+04    40.0  \n",
              "2017-08-17 04:30:00  9.408092e+04    58.0  \n",
              "2017-08-17 04:45:00  6.006047e+04    64.0  \n",
              "2017-08-17 05:00:00  2.200653e+04    44.0  \n",
              "...                           ...     ...  \n",
              "2023-09-18 04:00:00  5.790778e+06  6223.0  \n",
              "2023-09-18 04:15:00  4.814296e+06  5387.0  \n",
              "2023-09-18 04:30:00  5.191868e+06  6325.0  \n",
              "2023-09-18 04:45:00  3.604247e+06  5307.0  \n",
              "2023-09-18 05:00:00  6.068950e+05  1158.0  \n",
              "\n",
              "[213413 rows x 7 columns]"
            ]
          },
          "execution_count": 4,
          "metadata": {},
          "output_type": "execute_result"
        }
      ],
      "source": [
        "inicio = datetime(2017,1,1)\n",
        "df = historico_binance('BTCUSDT', inicio, timeframe_minutos=15, n_threads=30)\n",
        "df = df.resample('15T').last()\n",
        "df"
      ]
    },
    {
      "cell_type": "code",
      "execution_count": 5,
      "id": "da4f1587",
      "metadata": {
        "colab": {
          "base_uri": "https://localhost:8080/",
          "height": 369
        },
        "id": "da4f1587",
        "outputId": "0f9e57fc-4786-46e2-c7f9-ec8ddf4c5873"
      },
      "outputs": [
        {
          "data": {
            "text/plain": [
              "<AxesSubplot: title={'center': 'Variacion mediana BTC por horario UTC, timeframe 15min'}, xlabel='horario'>"
            ]
          },
          "execution_count": 5,
          "metadata": {},
          "output_type": "execute_result"
        },
        {
          "data": {
            "image/png": "[encoded data removed]",
            "text/plain": [
              "<Figure size 1800x900 with 1 Axes>"
            ]
          },
          "metadata": {},
          "output_type": "display_data"
        }
      ],
      "source": [
        "df['horario'] = df.index.time\n",
        "df['variacion'] = df.Close.pct_change()\n",
        "agg = df.groupby('horario').variacion.median()\n",
        "title = 'Variacion mediana BTC por horario UTC, timeframe 15min'\n",
        "agg.plot(kind='bar', figsize=(18,9), title=title, grid=True)"
      ]
    },
    {
      "cell_type": "code",
      "execution_count": null,
      "id": "f137aef9",
      "metadata": {
        "id": "f137aef9"
      },
      "outputs": [],
      "source": []
    }
  ],
  "metadata": {
    "colab": {
      "provenance": []
    },
    "kernelspec": {
      "display_name": "Python 3 (ipykernel)",
      "language": "python",
      "name": "python3"
    },
    "language_info": {
      "codemirror_mode": {
        "name": "ipython",
        "version": 3
      },
      "file_extension": ".py",
      "mimetype": "text/x-python",
      "name": "python",
      "nbconvert_exporter": "python",
      "pygments_lexer": "ipython3",
      "version": "3.10.11"
    },
    "toc": {
      "base_numbering": 1,
      "nav_menu": {},
      "number_sections": true,
      "sideBar": true,
      "skip_h1_title": false,
      "title_cell": "Table of Contents",
      "title_sidebar": "Contents",
      "toc_cell": false,
      "toc_position": {},
      "toc_section_display": true,
      "toc_window_display": false
    }
  },
  "nbformat": 4,
  "nbformat_minor": 5
}
