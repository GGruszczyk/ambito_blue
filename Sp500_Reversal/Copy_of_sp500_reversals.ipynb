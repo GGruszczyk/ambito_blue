{
  "cells": [
    {
      "cell_type": "code",
      "execution_count": 1,
      "metadata": {
        "colab": {
          "base_uri": "https://localhost:8080/"
        },
        "id": "MZfb-H0kFTtJ",
        "outputId": "aa435349-1d81-4a2a-c49d-5f0075308ba1"
      },
      "outputs": [
        {
          "name": "stdout",
          "output_type": "stream",
          "text": [
            "Requirement already satisfied: yfinance in c:\\users\\alfredo\\appdata\\local\\packages\\pythonsoftwarefoundation.python.3.10_qbz5n2kfra8p0\\localcache\\local-packages\\python310\\site-packages (0.2.9)\n",
            "Requirement already satisfied: pandas>=1.3.0 in c:\\users\\alfredo\\appdata\\local\\packages\\pythonsoftwarefoundation.python.3.10_qbz5n2kfra8p0\\localcache\\local-packages\\python310\\site-packages (from yfinance) (1.5.3)\n",
            "Requirement already satisfied: numpy>=1.16.5 in c:\\users\\alfredo\\appdata\\local\\packages\\pythonsoftwarefoundation.python.3.10_qbz5n2kfra8p0\\localcache\\local-packages\\python310\\site-packages (from yfinance) (1.24.1)\n",
            "Requirement already satisfied: requests>=2.26 in c:\\users\\alfredo\\appdata\\local\\packages\\pythonsoftwarefoundation.python.3.10_qbz5n2kfra8p0\\localcache\\local-packages\\python310\\site-packages (from yfinance) (2.31.0)\n",
            "Requirement already satisfied: multitasking>=0.0.7 in c:\\users\\alfredo\\appdata\\local\\packages\\pythonsoftwarefoundation.python.3.10_qbz5n2kfra8p0\\localcache\\local-packages\\python310\\site-packages (from yfinance) (0.0.11)\n",
            "Requirement already satisfied: lxml>=4.9.1 in c:\\users\\alfredo\\appdata\\local\\packages\\pythonsoftwarefoundation.python.3.10_qbz5n2kfra8p0\\localcache\\local-packages\\python310\\site-packages (from yfinance) (4.9.2)\n",
            "Requirement already satisfied: appdirs>=1.4.4 in c:\\users\\alfredo\\appdata\\local\\packages\\pythonsoftwarefoundation.python.3.10_qbz5n2kfra8p0\\localcache\\local-packages\\python310\\site-packages (from yfinance) (1.4.4)\n",
            "Requirement already satisfied: pytz>=2022.5 in c:\\users\\alfredo\\appdata\\local\\packages\\pythonsoftwarefoundation.python.3.10_qbz5n2kfra8p0\\localcache\\local-packages\\python310\\site-packages (from yfinance) (2022.7.1)\n",
            "Requirement already satisfied: frozendict>=2.3.4 in c:\\users\\alfredo\\appdata\\local\\packages\\pythonsoftwarefoundation.python.3.10_qbz5n2kfra8p0\\localcache\\local-packages\\python310\\site-packages (from yfinance) (2.3.4)\n",
            "Requirement already satisfied: cryptography>=3.3.2 in c:\\users\\alfredo\\appdata\\local\\packages\\pythonsoftwarefoundation.python.3.10_qbz5n2kfra8p0\\localcache\\local-packages\\python310\\site-packages (from yfinance) (39.0.0)\n",
            "Requirement already satisfied: beautifulsoup4>=4.11.1 in c:\\users\\alfredo\\appdata\\local\\packages\\pythonsoftwarefoundation.python.3.10_qbz5n2kfra8p0\\localcache\\local-packages\\python310\\site-packages (from yfinance) (4.11.2)\n",
            "Requirement already satisfied: html5lib>=1.1 in c:\\users\\alfredo\\appdata\\local\\packages\\pythonsoftwarefoundation.python.3.10_qbz5n2kfra8p0\\localcache\\local-packages\\python310\\site-packages (from yfinance) (1.1)\n",
            "Requirement already satisfied: soupsieve>1.2 in c:\\users\\alfredo\\appdata\\local\\packages\\pythonsoftwarefoundation.python.3.10_qbz5n2kfra8p0\\localcache\\local-packages\\python310\\site-packages (from beautifulsoup4>=4.11.1->yfinance) (2.3.2.post1)\n",
            "Requirement already satisfied: cffi>=1.12 in c:\\users\\alfredo\\appdata\\local\\packages\\pythonsoftwarefoundation.python.3.10_qbz5n2kfra8p0\\localcache\\local-packages\\python310\\site-packages (from cryptography>=3.3.2->yfinance) (1.15.1)\n",
            "Requirement already satisfied: six>=1.9 in c:\\users\\alfredo\\appdata\\local\\packages\\pythonsoftwarefoundation.python.3.10_qbz5n2kfra8p0\\localcache\\local-packages\\python310\\site-packages (from html5lib>=1.1->yfinance) (1.16.0)\n",
            "Requirement already satisfied: webencodings in c:\\users\\alfredo\\appdata\\local\\packages\\pythonsoftwarefoundation.python.3.10_qbz5n2kfra8p0\\localcache\\local-packages\\python310\\site-packages (from html5lib>=1.1->yfinance) (0.5.1)\n",
            "Requirement already satisfied: python-dateutil>=2.8.1 in c:\\users\\alfredo\\appdata\\local\\packages\\pythonsoftwarefoundation.python.3.10_qbz5n2kfra8p0\\localcache\\local-packages\\python310\\site-packages (from pandas>=1.3.0->yfinance) (2.8.2)\n",
            "Requirement already satisfied: charset-normalizer<4,>=2 in c:\\users\\alfredo\\appdata\\local\\packages\\pythonsoftwarefoundation.python.3.10_qbz5n2kfra8p0\\localcache\\local-packages\\python310\\site-packages (from requests>=2.26->yfinance) (2.1.1)\n",
            "Requirement already satisfied: idna<4,>=2.5 in c:\\users\\alfredo\\appdata\\local\\packages\\pythonsoftwarefoundation.python.3.10_qbz5n2kfra8p0\\localcache\\local-packages\\python310\\site-packages (from requests>=2.26->yfinance) (3.4)\n",
            "Requirement already satisfied: urllib3<3,>=1.21.1 in c:\\users\\alfredo\\appdata\\local\\packages\\pythonsoftwarefoundation.python.3.10_qbz5n2kfra8p0\\localcache\\local-packages\\python310\\site-packages (from requests>=2.26->yfinance) (1.26.14)\n",
            "Requirement already satisfied: certifi>=2017.4.17 in c:\\users\\alfredo\\appdata\\local\\packages\\pythonsoftwarefoundation.python.3.10_qbz5n2kfra8p0\\localcache\\local-packages\\python310\\site-packages (from requests>=2.26->yfinance) (2022.12.7)\n",
            "Requirement already satisfied: pycparser in c:\\users\\alfredo\\appdata\\local\\packages\\pythonsoftwarefoundation.python.3.10_qbz5n2kfra8p0\\localcache\\local-packages\\python310\\site-packages (from cffi>=1.12->cryptography>=3.3.2->yfinance) (2.21)\n",
            "Note: you may need to restart the kernel to use updated packages.\n"
          ]
        }
      ],
      "source": [
        "pip install yfinance"
      ]
    },
    {
      "cell_type": "markdown",
      "metadata": {
        "id": "L40i0zL_8ZL7"
      },
      "source": [
        "# New Section"
      ]
    },
    {
      "cell_type": "markdown",
      "metadata": {
        "id": "THtryIHf8ZxN"
      },
      "source": [
        "# New Section"
      ]
    },
    {
      "cell_type": "code",
      "execution_count": 2,
      "metadata": {
        "colab": {
          "base_uri": "https://localhost:8080/",
          "height": 381
        },
        "id": "bn9KimXHFVNh",
        "outputId": "b9d26691-f95b-44f4-cee4-a7ebf70ea846"
      },
      "outputs": [
        {
          "name": "stdout",
          "output_type": "stream",
          "text": [
            "[*********************100%***********************]  1 of 1 completed\n"
          ]
        },
        {
          "data": {
            "text/html": [
              "<div>\n",
              "<style scoped>\n",
              "    .dataframe tbody tr th:only-of-type {\n",
              "        vertical-align: middle;\n",
              "    }\n",
              "\n",
              "    .dataframe tbody tr th {\n",
              "        vertical-align: top;\n",
              "    }\n",
              "\n",
              "    .dataframe thead th {\n",
              "        text-align: right;\n",
              "    }\n",
              "</style>\n",
              "<table border=\"1\" class=\"dataframe\">\n",
              "  <thead>\n",
              "    <tr style=\"text-align: right;\">\n",
              "      <th></th>\n",
              "      <th>Date</th>\n",
              "      <th>reversal %</th>\n",
              "    </tr>\n",
              "  </thead>\n",
              "  <tbody>\n",
              "    <tr>\n",
              "      <th>0</th>\n",
              "      <td>2008-11-13 00:00:00-05:00</td>\n",
              "      <td>11.310750</td>\n",
              "    </tr>\n",
              "    <tr>\n",
              "      <th>1</th>\n",
              "      <td>2008-10-28 00:00:00-04:00</td>\n",
              "      <td>11.267404</td>\n",
              "    </tr>\n",
              "    <tr>\n",
              "      <th>2</th>\n",
              "      <td>2008-10-13 00:00:00-04:00</td>\n",
              "      <td>9.926045</td>\n",
              "    </tr>\n",
              "    <tr>\n",
              "      <th>3</th>\n",
              "      <td>1987-10-20 00:00:00-04:00</td>\n",
              "      <td>9.410512</td>\n",
              "    </tr>\n",
              "    <tr>\n",
              "      <th>4</th>\n",
              "      <td>1962-05-29 00:00:00-04:00</td>\n",
              "      <td>9.316771</td>\n",
              "    </tr>\n",
              "    <tr>\n",
              "      <th>5</th>\n",
              "      <td>2008-10-16 00:00:00-04:00</td>\n",
              "      <td>9.308984</td>\n",
              "    </tr>\n",
              "    <tr>\n",
              "      <th>6</th>\n",
              "      <td>1987-10-21 00:00:00-04:00</td>\n",
              "      <td>9.099355</td>\n",
              "    </tr>\n",
              "    <tr>\n",
              "      <th>7</th>\n",
              "      <td>2020-03-13 00:00:00-04:00</td>\n",
              "      <td>8.772770</td>\n",
              "    </tr>\n",
              "    <tr>\n",
              "      <th>8</th>\n",
              "      <td>2002-07-24 00:00:00-04:00</td>\n",
              "      <td>8.734272</td>\n",
              "    </tr>\n",
              "    <tr>\n",
              "      <th>9</th>\n",
              "      <td>2008-11-21 00:00:00-05:00</td>\n",
              "      <td>7.963349</td>\n",
              "    </tr>\n",
              "  </tbody>\n",
              "</table>\n",
              "</div>"
            ],
            "text/plain": [
              "                       Date  reversal %\n",
              "0 2008-11-13 00:00:00-05:00   11.310750\n",
              "1 2008-10-28 00:00:00-04:00   11.267404\n",
              "2 2008-10-13 00:00:00-04:00    9.926045\n",
              "3 1987-10-20 00:00:00-04:00    9.410512\n",
              "4 1962-05-29 00:00:00-04:00    9.316771\n",
              "5 2008-10-16 00:00:00-04:00    9.308984\n",
              "6 1987-10-21 00:00:00-04:00    9.099355\n",
              "7 2020-03-13 00:00:00-04:00    8.772770\n",
              "8 2002-07-24 00:00:00-04:00    8.734272\n",
              "9 2008-11-21 00:00:00-05:00    7.963349"
            ]
          },
          "execution_count": 2,
          "metadata": {},
          "output_type": "execute_result"
        }
      ],
      "source": [
        "import yfinance as yf\n",
        "df = yf.download('^GSPC', auto_adjust=True)\n",
        "df['reversal %'] = (df['Close'] / df['Low'] - 1) *100\n",
        "df.sort_values('reversal %', ascending=False).head(10).iloc[:,-1].reset_index()"
      ]
    },
    {
      "cell_type": "code",
      "execution_count": 3,
      "metadata": {
        "colab": {
          "base_uri": "https://localhost:8080/",
          "height": 237
        },
        "id": "RT1-VfFMFabd",
        "outputId": "272e91db-4feb-49a7-8042-397b74c01e35"
      },
      "outputs": [
        {
          "data": {
            "text/html": [
              "<div>\n",
              "<style scoped>\n",
              "    .dataframe tbody tr th:only-of-type {\n",
              "        vertical-align: middle;\n",
              "    }\n",
              "\n",
              "    .dataframe tbody tr th {\n",
              "        vertical-align: top;\n",
              "    }\n",
              "\n",
              "    .dataframe thead th {\n",
              "        text-align: right;\n",
              "    }\n",
              "</style>\n",
              "<table border=\"1\" class=\"dataframe\">\n",
              "  <thead>\n",
              "    <tr style=\"text-align: right;\">\n",
              "      <th></th>\n",
              "      <th>Open</th>\n",
              "      <th>High</th>\n",
              "      <th>Low</th>\n",
              "      <th>Close</th>\n",
              "      <th>Volume</th>\n",
              "      <th>reversal %</th>\n",
              "      <th>reversal rank</th>\n",
              "    </tr>\n",
              "    <tr>\n",
              "      <th>Date</th>\n",
              "      <th></th>\n",
              "      <th></th>\n",
              "      <th></th>\n",
              "      <th></th>\n",
              "      <th></th>\n",
              "      <th></th>\n",
              "      <th></th>\n",
              "    </tr>\n",
              "  </thead>\n",
              "  <tbody>\n",
              "    <tr>\n",
              "      <th>2023-09-11 00:00:00-04:00</th>\n",
              "      <td>4480.979980</td>\n",
              "      <td>4490.770020</td>\n",
              "      <td>4467.890137</td>\n",
              "      <td>4487.459961</td>\n",
              "      <td>3369920000</td>\n",
              "      <td>0.438010</td>\n",
              "      <td>9945.0</td>\n",
              "    </tr>\n",
              "    <tr>\n",
              "      <th>2023-09-12 00:00:00-04:00</th>\n",
              "      <td>4473.270020</td>\n",
              "      <td>4487.109863</td>\n",
              "      <td>4456.830078</td>\n",
              "      <td>4461.899902</td>\n",
              "      <td>3435740000</td>\n",
              "      <td>0.113754</td>\n",
              "      <td>14008.0</td>\n",
              "    </tr>\n",
              "    <tr>\n",
              "      <th>2023-09-13 00:00:00-04:00</th>\n",
              "      <td>4462.649902</td>\n",
              "      <td>4479.390137</td>\n",
              "      <td>4453.520020</td>\n",
              "      <td>4467.439941</td>\n",
              "      <td>3529430000</td>\n",
              "      <td>0.312560</td>\n",
              "      <td>11696.0</td>\n",
              "    </tr>\n",
              "    <tr>\n",
              "      <th>2023-09-14 00:00:00-04:00</th>\n",
              "      <td>4487.779785</td>\n",
              "      <td>4511.990234</td>\n",
              "      <td>4478.689941</td>\n",
              "      <td>4505.100098</td>\n",
              "      <td>3648720000</td>\n",
              "      <td>0.589685</td>\n",
              "      <td>7863.0</td>\n",
              "    </tr>\n",
              "    <tr>\n",
              "      <th>2023-09-15 00:00:00-04:00</th>\n",
              "      <td>4497.979980</td>\n",
              "      <td>4497.979980</td>\n",
              "      <td>4447.209961</td>\n",
              "      <td>4450.319824</td>\n",
              "      <td>6932230000</td>\n",
              "      <td>0.069928</td>\n",
              "      <td>14488.0</td>\n",
              "    </tr>\n",
              "  </tbody>\n",
              "</table>\n",
              "</div>"
            ],
            "text/plain": [
              "                                  Open         High          Low        Close  \\\n",
              "Date                                                                            \n",
              "2023-09-11 00:00:00-04:00  4480.979980  4490.770020  4467.890137  4487.459961   \n",
              "2023-09-12 00:00:00-04:00  4473.270020  4487.109863  4456.830078  4461.899902   \n",
              "2023-09-13 00:00:00-04:00  4462.649902  4479.390137  4453.520020  4467.439941   \n",
              "2023-09-14 00:00:00-04:00  4487.779785  4511.990234  4478.689941  4505.100098   \n",
              "2023-09-15 00:00:00-04:00  4497.979980  4497.979980  4447.209961  4450.319824   \n",
              "\n",
              "                               Volume  reversal %  reversal rank  \n",
              "Date                                                              \n",
              "2023-09-11 00:00:00-04:00  3369920000    0.438010         9945.0  \n",
              "2023-09-12 00:00:00-04:00  3435740000    0.113754        14008.0  \n",
              "2023-09-13 00:00:00-04:00  3529430000    0.312560        11696.0  \n",
              "2023-09-14 00:00:00-04:00  3648720000    0.589685         7863.0  \n",
              "2023-09-15 00:00:00-04:00  6932230000    0.069928        14488.0  "
            ]
          },
          "execution_count": 3,
          "metadata": {},
          "output_type": "execute_result"
        }
      ],
      "source": [
        "df['reversal rank'] = df['reversal %'].rank(ascending=False)\n",
        "df.tail()"
      ]
    },
    {
      "cell_type": "code",
      "execution_count": 4,
      "metadata": {
        "colab": {
          "base_uri": "https://localhost:8080/"
        },
        "id": "rlaCFQZ7Fda0",
        "outputId": "57d987b8-263d-4a34-89c1-e29e2ea55594"
      },
      "outputs": [
        {
          "data": {
            "text/plain": [
              "24042"
            ]
          },
          "execution_count": 4,
          "metadata": {},
          "output_type": "execute_result"
        }
      ],
      "source": [
        "len(df)"
      ]
    },
    {
      "cell_type": "code",
      "execution_count": 5,
      "metadata": {
        "colab": {
          "base_uri": "https://localhost:8080/",
          "height": 613
        },
        "id": "BHFypNNvF7D-",
        "outputId": "99e2376d-2f4e-4a44-9302-2dce7ed0de77"
      },
      "outputs": [
        {
          "name": "stdout",
          "output_type": "stream",
          "text": [
            "count    100.000000\n",
            "mean      -0.268740\n",
            "std        3.004598\n",
            "min      -11.984055\n",
            "25%       -1.829199\n",
            "50%       -0.417292\n",
            "75%        1.043080\n",
            "max       11.580037\n",
            "Name: next_day_ret, dtype: float64\n"
          ]
        },
        {
          "data": {
            "text/plain": [
              "<AxesSubplot: >"
            ]
          },
          "execution_count": 5,
          "metadata": {},
          "output_type": "execute_result"
        },
        {
          "data": {
            "image/png": "[encoded data removed]",
            "text/plain": [
              "<Figure size 640x480 with 1 Axes>"
            ]
          },
          "metadata": {},
          "output_type": "display_data"
        }
      ],
      "source": [
        "df['next_day_ret'] = (df.Close.shift(-1) / df.Close -1)*100\n",
        "\n",
        "print(df.sort_values('reversal rank').iloc[:100,-1].describe())\n",
        "df.sort_values('reversal rank').iloc[:100,-1].hist(bins=100)"
      ]
    },
    {
      "cell_type": "code",
      "execution_count": null,
      "metadata": {
        "id": "3jAgDXNa1GZE"
      },
      "outputs": [],
      "source": []
    }
  ],
  "metadata": {
    "colab": {
      "provenance": []
    },
    "kernelspec": {
      "display_name": "Python 3",
      "name": "python3"
    },
    "language_info": {
      "codemirror_mode": {
        "name": "ipython",
        "version": 3
      },
      "file_extension": ".py",
      "mimetype": "text/x-python",
      "name": "python",
      "nbconvert_exporter": "python",
      "pygments_lexer": "ipython3",
      "version": "3.10.11"
    }
  },
  "nbformat": 4,
  "nbformat_minor": 0
}
